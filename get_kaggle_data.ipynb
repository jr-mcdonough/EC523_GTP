{
 "cells": [
  {
   "cell_type": "code",
   "execution_count": null,
   "metadata": {
    "_cell_guid": "b1076dfc-b9ad-4769-8c92-a6c4dae69d19",
    "_uuid": "8f2839f25d086af736a60e9eeb907d3b93b6e0e5",
    "execution": {
     "iopub.execute_input": "2024-12-12T14:33:24.702349Z",
     "iopub.status.busy": "2024-12-12T14:33:24.701883Z",
     "iopub.status.idle": "2024-12-12T14:33:25.906880Z",
     "shell.execute_reply": "2024-12-12T14:33:25.905641Z",
     "shell.execute_reply.started": "2024-12-12T14:33:24.702311Z"
    }
   },
   "outputs": [],
   "source": [
    "'''\n",
    "The data for this problem comes from a 2020 Kaggle challenge:\n",
    "https://www.kaggle.com/c/prostate-cancer-grade-assessment/data\n",
    "\n",
    "Due to the large volume of whole-slide images (10,000+ .tiff files, ~50 Mb average), only a subset is used for\n",
    "training/testing. Using Kaggles built-in IPython notebook, a random subset of the images can be saved offline.\n",
    "\n",
    "The following notebook can be used by following the link above, navigating to the 'Code' page, and launching a\n",
    "new notebook\n",
    "'''\n",
    "\n",
    "import numpy as np\n",
    "import pandas as pd\n",
    "import os\n",
    "import glob\n",
    "import random\n",
    "import shutil\n",
    "import random\n",
    "import zipfile"
   ]
  },
  {
   "cell_type": "code",
   "execution_count": null,
   "metadata": {
    "execution": {
     "iopub.execute_input": "2024-12-12T14:33:54.826965Z",
     "iopub.status.busy": "2024-12-12T14:33:54.826504Z",
     "iopub.status.idle": "2024-12-12T14:33:54.835032Z",
     "shell.execute_reply": "2024-12-12T14:33:54.833668Z",
     "shell.execute_reply.started": "2024-12-12T14:33:54.826928Z"
    }
   },
   "outputs": [],
   "source": [
    "# the available data is stored in the following directory:\n",
    "print(os.listdir('/kaggle/input/prostate-cancer-grade-assessment'))"
   ]
  },
  {
   "cell_type": "code",
   "execution_count": null,
   "metadata": {
    "execution": {
     "iopub.execute_input": "2024-12-12T14:33:56.072793Z",
     "iopub.status.busy": "2024-12-12T14:33:56.071939Z",
     "iopub.status.idle": "2024-12-12T14:33:56.346480Z",
     "shell.execute_reply": "2024-12-12T14:33:56.345128Z",
     "shell.execute_reply.started": "2024-12-12T14:33:56.072748Z"
    }
   },
   "outputs": [],
   "source": [
    "# generate a list of all the training images, randomly sample from it to get a reasonably sized subset\n",
    "img_paths = glob.glob('/kaggle/input/prostate-cancer-grade-assessment/train_images/*.tiff')\n",
    "\n",
    "print(f'total number of training images: {len(img_paths)}')\n",
    "\n",
    "sample_datapaths = random.sample(img_paths, 300)\n",
    "print(f'subset generated as type {type(sample_datapaths)}, with {len(sample_datapaths)} images')"
   ]
  },
  {
   "cell_type": "code",
   "execution_count": null,
   "metadata": {
    "execution": {
     "iopub.execute_input": "2024-12-12T14:35:08.936143Z",
     "iopub.status.busy": "2024-12-12T14:35:08.935197Z",
     "iopub.status.idle": "2024-12-12T14:35:08.941701Z",
     "shell.execute_reply": "2024-12-12T14:35:08.940359Z",
     "shell.execute_reply.started": "2024-12-12T14:35:08.936095Z"
    }
   },
   "outputs": [],
   "source": [
    "# copy the data to kaggle's output folder and get the filepaths in a list\n",
    "\n",
    "save_dir = \"/kaggle/working/sampled_images\"\n",
    "os.makedirs(save_dir, exist_ok=True)\n",
    "\n",
    "for image_path in sample_datapaths:\n",
    "    \n",
    "    image_filename = os.path.basename(image_path)\n",
    "    shutil.copy(image_path, os.path.join(save_dir, image_filename))\n",
    "    \n",
    "save_imgs = glob.glob(os.path.join(save_dir, '*.tiff'))\n",
    "print(f'{len(save_imgs)} images written to output folder')"
   ]
  },
  {
   "cell_type": "code",
   "execution_count": null,
   "metadata": {
    "execution": {
     "iopub.execute_input": "2024-12-12T14:45:45.553212Z",
     "iopub.status.busy": "2024-12-12T14:45:45.552663Z",
     "iopub.status.idle": "2024-12-12T14:46:35.914045Z",
     "shell.execute_reply": "2024-12-12T14:46:35.912713Z",
     "shell.execute_reply.started": "2024-12-12T14:45:45.553174Z"
    }
   },
   "outputs": [],
   "source": [
    "# zip all the images to a file\n",
    "# after each is added, delete the actual image to stay within kaggle's disk space allotment\n",
    "# note glob lists have the paths if they need to be recovered/regenerated during session\n",
    "\n",
    "zip_filename = \"/kaggle/working/sampled_images.zip\"\n",
    "with zipfile.ZipFile(zip_filename, 'w') as zipf:\n",
    "    for image_path in save_imgs:\n",
    "        # Add the image to the zip file\n",
    "        zipf.write(image_path, os.path.basename(image_path))\n",
    "        # Delete the original file to free up memory\n",
    "        os.remove(image_path)"
   ]
  },
  {
   "cell_type": "code",
   "execution_count": null,
   "metadata": {
    "execution": {
     "iopub.execute_input": "2024-12-12T14:54:26.887941Z",
     "iopub.status.busy": "2024-12-12T14:54:26.886741Z",
     "iopub.status.idle": "2024-12-12T14:54:26.895234Z",
     "shell.execute_reply": "2024-12-12T14:54:26.894150Z",
     "shell.execute_reply.started": "2024-12-12T14:54:26.887888Z"
    }
   },
   "outputs": [],
   "source": [
    "# the data can be downloaded from the kaggle workspace, or the following can generate a link to download\n",
    "os.chdir(r'/kaggle/working')\n",
    "\n",
    "from IPython.display import FileLink\n",
    "FileLink(r'sampled_images.zip')"
   ]
  }
 ],
 "metadata": {
  "kaggle": {
   "accelerator": "none",
   "dataSources": [
    {
     "databundleVersionId": 1126921,
     "sourceId": 18647,
     "sourceType": "competition"
    }
   ],
   "dockerImageVersionId": 30804,
   "isGpuEnabled": false,
   "isInternetEnabled": true,
   "language": "python",
   "sourceType": "notebook"
  },
  "kernelspec": {
   "display_name": "Python 3 (ipykernel)",
   "language": "python",
   "name": "python3"
  },
  "language_info": {
   "codemirror_mode": {
    "name": "ipython",
    "version": 3
   },
   "file_extension": ".py",
   "mimetype": "text/x-python",
   "name": "python",
   "nbconvert_exporter": "python",
   "pygments_lexer": "ipython3",
   "version": "3.9.13"
  }
 },
 "nbformat": 4,
 "nbformat_minor": 4
}
